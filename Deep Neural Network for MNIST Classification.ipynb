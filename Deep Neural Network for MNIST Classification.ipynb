{
 "cells": [
  {
   "cell_type": "markdown",
   "id": "242c1f1f",
   "metadata": {},
   "source": [
    "## Deep Neural Network For MNIST Classification"
   ]
  },
  {
   "cell_type": "markdown",
   "id": "b018aef8",
   "metadata": {},
   "source": [
    "#### Import relevant packages"
   ]
  },
  {
   "cell_type": "code",
   "execution_count": 2,
   "id": "94c63c04",
   "metadata": {},
   "outputs": [],
   "source": [
    "import numpy as np\n",
    "import tensorflow as tf\n",
    "import tensorflow_datasets as tfds"
   ]
  },
  {
   "cell_type": "markdown",
   "id": "3b49eff0",
   "metadata": {},
   "source": [
    "#### Data\n"
   ]
  },
  {
   "cell_type": "code",
   "execution_count": 3,
   "id": "caf300e3",
   "metadata": {},
   "outputs": [],
   "source": [
    "mnist_dataset, mnist_info = tfds.load(name='mnist', with_info=True, as_supervised=True)"
   ]
  },
  {
   "cell_type": "code",
   "execution_count": 4,
   "id": "2b05dea7",
   "metadata": {},
   "outputs": [],
   "source": [
    "mnist_train, mnist_test = mnist_dataset['train'], mnist_dataset['test']\n",
    "\n",
    "num_validation_sample = 0.1*mnist_info.splits['train'].num_examples\n",
    "num_validation_sample = tf.cast(num_validation_sample, tf.int64)\n",
    "\n",
    "num_test_samples = mnist_info.splits['test'].num_examples\n",
    "num_test_samples = tf.cast(num_test_samples, tf.int64)\n",
    "\n",
    "def scale(image, label):\n",
    "    image = tf.cast(image, tf.float32)\n",
    "    image/= 255.\n",
    "    return image, label\n",
    "\n",
    "scaled_train_and_validation_data = mnist_train.map(scale)\n",
    "test_data = mnist_test.map(scale)\n",
    "\n",
    "BUFFER_SIZE = 10000\n",
    "\n",
    "shuffled_train_and_validation_data = scaled_train_and_validation_data.shuffle(BUFFER_SIZE)\n",
    "validation_data = shuffled_train_and_validation_data.take(num_validation_sample)\n",
    "\n",
    "train_data = shuffled_train_and_validation_data.skip(num_validation_sample)\n",
    "\n",
    "BATCH_SIZE = 100\n",
    "\n",
    "train_data = train_data.batch(BATCH_SIZE)\n",
    "validation_data = validation_data.batch(num_validation_sample)\n",
    "\n",
    "test_data = test_data.batch(num_test_samples)\n",
    "validation_inputs, validation_targets = next(iter(validation_data))"
   ]
  },
  {
   "cell_type": "markdown",
   "id": "a77382b6",
   "metadata": {},
   "source": [
    "#### Model\n"
   ]
  },
  {
   "cell_type": "markdown",
   "id": "395f10ff",
   "metadata": {},
   "source": [
    "##### Outline the model"
   ]
  },
  {
   "cell_type": "code",
   "execution_count": 5,
   "id": "fca88e06",
   "metadata": {},
   "outputs": [
    {
     "name": "stderr",
     "output_type": "stream",
     "text": [
      "C:\\Users\\Williams\\anaconda3\\lib\\site-packages\\keras\\src\\layers\\reshaping\\flatten.py:37: UserWarning: Do not pass an `input_shape`/`input_dim` argument to a layer. When using Sequential models, prefer using an `Input(shape)` object as the first layer in the model instead.\n",
      "  super().__init__(**kwargs)\n"
     ]
    }
   ],
   "source": [
    "input_size = 784\n",
    "output_size = 10\n",
    "hidden_layer_size = 50\n",
    "\n",
    "model = tf.keras.Sequential([\n",
    "            tf.keras.layers.Flatten(input_shape= (28,28,1)),\n",
    "            tf.keras.layers.Dense(hidden_layer_size, activation= 'relu'),\n",
    "            tf.keras.layers.Dense(hidden_layer_size, activation= 'relu'),\n",
    "            tf.keras.layers.Dense(output_size, activation= 'softmax')\n",
    "])"
   ]
  },
  {
   "cell_type": "markdown",
   "id": "ae2da611",
   "metadata": {},
   "source": [
    "#### Choose the Optimizer and the Loss Function"
   ]
  },
  {
   "cell_type": "code",
   "execution_count": 6,
   "id": "5eb4a105",
   "metadata": {},
   "outputs": [],
   "source": [
    "model.compile(optimizer= 'adam', loss= 'sparse_categorical_crossentropy', metrics= ['accuracy'])"
   ]
  },
  {
   "cell_type": "markdown",
   "id": "732ab132",
   "metadata": {},
   "source": [
    "#### Training"
   ]
  },
  {
   "cell_type": "code",
   "execution_count": 7,
   "id": "88c3754c",
   "metadata": {},
   "outputs": [
    {
     "name": "stdout",
     "output_type": "stream",
     "text": [
      "Epoch 1/5\n",
      "540/540 - 4s - 8ms/step - accuracy: 0.8823 - loss: 0.4194 - val_accuracy: 0.9380 - val_loss: 0.2185\n",
      "Epoch 2/5\n",
      "540/540 - 2s - 4ms/step - accuracy: 0.9451 - loss: 0.1878 - val_accuracy: 0.9510 - val_loss: 0.1727\n",
      "Epoch 3/5\n",
      "540/540 - 2s - 4ms/step - accuracy: 0.9573 - loss: 0.1444 - val_accuracy: 0.9620 - val_loss: 0.1319\n",
      "Epoch 4/5\n",
      "540/540 - 2s - 3ms/step - accuracy: 0.9655 - loss: 0.1152 - val_accuracy: 0.9657 - val_loss: 0.1200\n",
      "Epoch 5/5\n",
      "540/540 - 2s - 3ms/step - accuracy: 0.9706 - loss: 0.0968 - val_accuracy: 0.9717 - val_loss: 0.0973\n"
     ]
    },
    {
     "data": {
      "text/plain": [
       "<keras.src.callbacks.history.History at 0x24c40275810>"
      ]
     },
     "execution_count": 7,
     "metadata": {},
     "output_type": "execute_result"
    }
   ],
   "source": [
    "NUM_EPOCHS = 5\n",
    "early_stopping = tf.keras.callbacks.EarlyStopping()\n",
    "model.fit(train_data, \n",
    "          epochs= NUM_EPOCHS,\n",
    "          callbacks = [early_stopping],\n",
    "          validation_data= (validation_inputs,validation_targets), \n",
    "          verbose= 2)"
   ]
  },
  {
   "cell_type": "markdown",
   "id": "6ed3f561",
   "metadata": {},
   "source": [
    "#### Test the Model"
   ]
  },
  {
   "cell_type": "code",
   "execution_count": 8,
   "id": "ba345d83",
   "metadata": {},
   "outputs": [
    {
     "name": "stdout",
     "output_type": "stream",
     "text": [
      "\u001b[1m1/1\u001b[0m \u001b[32m━━━━━━━━━━━━━━━━━━━━\u001b[0m\u001b[37m\u001b[0m \u001b[1m1s\u001b[0m 536ms/step - accuracy: 0.9684 - loss: 0.1059\n"
     ]
    }
   ],
   "source": [
    "test_loss, test_accuracy= model.evaluate(test_data)"
   ]
  },
  {
   "cell_type": "code",
   "execution_count": 9,
   "id": "1c17562e",
   "metadata": {},
   "outputs": [
    {
     "name": "stdout",
     "output_type": "stream",
     "text": [
      "Test loss: 0.11. Test accuracy: 96.84%\n"
     ]
    }
   ],
   "source": [
    "# We can apply some nice formatting if we want to\n",
    "print('Test loss: {0:.2f}. Test accuracy: {1:.2f}%'.format(test_loss, test_accuracy*100.))"
   ]
  },
  {
   "cell_type": "code",
   "execution_count": null,
   "id": "0f7917d0",
   "metadata": {},
   "outputs": [],
   "source": []
  },
  {
   "cell_type": "code",
   "execution_count": null,
   "id": "235e60f2",
   "metadata": {},
   "outputs": [],
   "source": []
  }
 ],
 "metadata": {
  "kernelspec": {
   "display_name": "Python 3 (ipykernel)",
   "language": "python",
   "name": "python3"
  },
  "language_info": {
   "codemirror_mode": {
    "name": "ipython",
    "version": 3
   },
   "file_extension": ".py",
   "mimetype": "text/x-python",
   "name": "python",
   "nbconvert_exporter": "python",
   "pygments_lexer": "ipython3",
   "version": "3.10.9"
  }
 },
 "nbformat": 4,
 "nbformat_minor": 5
}
